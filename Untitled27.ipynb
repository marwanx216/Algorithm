{
 "cells": [
  {
   "cell_type": "code",
   "execution_count": 1,
   "id": "d6cb18de",
   "metadata": {},
   "outputs": [
    {
     "name": "stdout",
     "output_type": "stream",
     "text": [
      "False\n",
      "True\n"
     ]
    }
   ],
   "source": [
    "#1. Write a Python program for a binary search.\n",
    "\n",
    "def binary_search(arr, low, high, x):\n",
    "    if high >= low:\n",
    "        mid = int((high+low)/2)\n",
    "\n",
    "        # If the target (x) is present at the middle\n",
    "        if x == arr[mid]:\n",
    "            return True\n",
    "\n",
    "        # If the middle value is greater than the x value,\n",
    "        # then the x must be in left subarray\n",
    "        elif arr[mid] > x:\n",
    "            return binary_search(arr,low,mid-1,x)\n",
    "\n",
    "        # If the middle value is smaller than the value x,\n",
    "        # then x must be in the right subarray\n",
    "        else:\n",
    "            return binary_search(arr, mid+1, high, x)\n",
    "\n",
    "    else:\n",
    "        return False\n",
    "\n",
    "# Test Data\n",
    "test_list = [1,2,3,5,8]\n",
    "\n",
    "# Search for the number 6 in the list \n",
    "result1 = binary_search(test_list, 0, len(test_list)-1, 6)\n",
    "print(result1)\n",
    "\n",
    "# Search for the number 8 in the list \n",
    "result2 = binary_search(test_list ,0, len(test_list)-1, 8)\n",
    "print(result2)"
   ]
  },
  {
   "cell_type": "code",
   "execution_count": 2,
   "id": "219b4c1d",
   "metadata": {},
   "outputs": [
    {
     "name": "stdout",
     "output_type": "stream",
     "text": [
      "9\n"
     ]
    }
   ],
   "source": [
    "# 2. Write a Python program to calculate the value of 'a' to the power 'b'.\n",
    "\n",
    "def power(a,b):\n",
    "    if b != 0:\n",
    "        b -=1\n",
    "        return a * power(a,b)\n",
    "    else:\n",
    "        return 1\n",
    "\n",
    "print(power(3,2))"
   ]
  },
  {
   "cell_type": "code",
   "execution_count": 8,
   "id": "7ed27ffc",
   "metadata": {},
   "outputs": [
    {
     "name": "stdout",
     "output_type": "stream",
     "text": [
      "Sample list:\n",
      " [13, 22, 29, 37, 46, 49, 52, 56, 71] \n",
      "\n",
      "Sorted List: \n",
      " [13, 22, 29, 37, 46, 49, 52, 56, 71]\n"
     ]
    }
   ],
   "source": [
    "# 3. Write a Python program to sort a list of elements using the bubble sort algorithm.\n",
    "\n",
    "def bubble_sort(my_list):\n",
    "    for i in range(0,len(my_list)):\n",
    "        for j in range(i):\n",
    "            # Check if the current element is greater than the next one\n",
    "            if my_list[j] > my_list[j+1]:\n",
    "                # If True swap the two elements                \n",
    "                my_list[j],my_list[j+1] = my_list[j+1], my_list[j]\n",
    "    return my_list\n",
    "\n",
    "sample = [29,13,22,37,52,49,46,71,56]\n",
    "result = bubble_sort(sample)\n",
    "print(\"Sample list:\\n\",sample,\"\\n\")\n",
    "print(\"Sorted List: \\n\", result)\n"
   ]
  },
  {
   "cell_type": "code",
   "execution_count": 7,
   "id": "091a21de",
   "metadata": {},
   "outputs": [
    {
     "name": "stdout",
     "output_type": "stream",
     "text": [
      "Sample list: \n",
      "29 13 22 37 52 49 46 71 56 \n",
      "\n",
      "Sorted: \n",
      "13 22 29 37 46 49 52 56 71 "
     ]
    }
   ],
   "source": [
    "# 4. Write a Python program to sort a list of elements using the merge sort algorithm.\n",
    "\n",
    "def merge(arr, l, m, r):\n",
    "    n1 = m - l + 1\n",
    "    n2 = r - m\n",
    "\n",
    "    # create temp arrays\n",
    "    L = [0] * (n1)\n",
    "    R = [0] * (n2)\n",
    "\n",
    "    for i in range(0, n1):\n",
    "        L[i] = arr[l + i]\n",
    "\n",
    "    for j in range(0, n2):\n",
    "        R[j] = arr[m + 1 + j]\n",
    "\n",
    "    i = 0  # Initial index of first subarray\n",
    "    j = 0  # Initial index of second subarray\n",
    "    k = l  # Initial index of merged subarray\n",
    "\n",
    "    while i < n1 and j < n2:\n",
    "        if L[i] <= R[j]:\n",
    "            arr[k] = L[i]\n",
    "            i += 1\n",
    "        else:\n",
    "            arr[k] = R[j]\n",
    "            j += 1\n",
    "        k += 1\n",
    "\n",
    "    while i < n1:\n",
    "        arr[k] = L[i]\n",
    "        i += 1\n",
    "        k += 1\n",
    "\n",
    "    while j < n2:\n",
    "        arr[k] = R[j]\n",
    "        j += 1\n",
    "        k += 1\n",
    "\n",
    "def mergeSort(arr, l, r):\n",
    "    if l < r:\n",
    "        m = l + (r - l) // 2\n",
    "\n",
    "        # Sort first and second halves\n",
    "        mergeSort(arr, l, m)\n",
    "        mergeSort(arr, m + 1, r)\n",
    "        merge(arr, l, m, r)\n",
    "\n",
    "# Driver code to test above\n",
    "sample = [29,13,22,37,52,49,46,71,56]\n",
    "n = len(sample)\n",
    "print(\"Sample list: \")\n",
    "for i in range(n):\n",
    "    print(\"%d\" % sample[i], end=\" \")\n",
    "\n",
    "mergeSort(sample, 0, n - 1)\n",
    "print(\"\\n\\nSorted: \")\n",
    "for i in range(n):\n",
    "    print(\"%d\" % sample[i], end=\" \")\n",
    "    "
   ]
  },
  {
   "cell_type": "code",
   "execution_count": 6,
   "id": "3da20710",
   "metadata": {},
   "outputs": [
    {
     "name": "stdout",
     "output_type": "stream",
     "text": [
      "Sample list: \n",
      " [29, 13, 22, 37, 52, 49, 46, 71, 56] \n",
      "\n",
      "Sorted list: \n",
      " [13, 22, 29, 37, 46, 49, 52, 56, 71]\n"
     ]
    }
   ],
   "source": [
    "# 5.\n",
    "\n",
    "def quick_sort(array):\n",
    "    if len(array) < 2:\n",
    "        return array\n",
    "    else:\n",
    "        pivot = array[0]\n",
    "        less = [i for i in array[1:] if i <= pivot]\n",
    "        greater = [i for i in array[1:] if i > pivot]\n",
    "        return quick_sort(less) + [pivot] + quick_sort(greater)\n",
    "\n",
    "sample = [29, 13, 22, 37, 52, 49, 46, 71, 56]\n",
    "\n",
    "print(\"Sample list: \\n\",sample,\"\\n\")\n",
    "    \n",
    "print(\"Sorted list: \\n\",quick_sort(sample))"
   ]
  },
  {
   "cell_type": "code",
   "execution_count": null,
   "id": "bd69b170",
   "metadata": {},
   "outputs": [],
   "source": []
  }
 ],
 "metadata": {
  "kernelspec": {
   "display_name": "Python 3 (ipykernel)",
   "language": "python",
   "name": "python3"
  },
  "language_info": {
   "codemirror_mode": {
    "name": "ipython",
    "version": 3
   },
   "file_extension": ".py",
   "mimetype": "text/x-python",
   "name": "python",
   "nbconvert_exporter": "python",
   "pygments_lexer": "ipython3",
   "version": "3.9.12"
  }
 },
 "nbformat": 4,
 "nbformat_minor": 5
}
